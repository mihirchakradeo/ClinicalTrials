{
 "cells": [
  {
   "cell_type": "markdown",
   "metadata": {},
   "source": [
    "# This notebook helps to create the B tree in form of a table"
   ]
  },
  {
   "cell_type": "markdown",
   "metadata": {},
   "source": [
    "### First createing a dict with each word across all the con files and taking its count"
   ]
  },
  {
   "cell_type": "code",
   "execution_count": 42,
   "metadata": {},
   "outputs": [],
   "source": [
    "import pandas as pd\n",
    "import numpy as np\n",
    "import glob\n",
    "import re\n",
    "from nltk.corpus import stopwords\n",
    "import string\n",
    "import operator\n",
    "import itertools"
   ]
  },
  {
   "cell_type": "code",
   "execution_count": 2,
   "metadata": {},
   "outputs": [],
   "source": [
    "d = dict()\n",
    "stop = stopwords.words('english') + list(string.punctuation)"
   ]
  },
  {
   "cell_type": "code",
   "execution_count": 3,
   "metadata": {},
   "outputs": [],
   "source": [
    "for filename in glob.glob('samples/*.con'):\n",
    "#     print(\"****************************************************************\")\n",
    "#     print(filename)\n",
    "#     print(\"****************************************************************\")\n",
    "    with open(filename) as f:\n",
    "        for line in f:\n",
    "            if not line:\n",
    "                pass\n",
    "            else:\n",
    "                if len(line.split(\"\\\"\")) == 5:\n",
    "                    temp = line.split(\"\\\"\")[1]\n",
    "                    x = temp.translate(None, string.punctuation)\n",
    "                    temp = x.strip()\n",
    "        #             temp_arr = [i for i in temp.split() if i not in stop]\n",
    "                    if temp in d:\n",
    "                        d[temp] += 1\n",
    "\n",
    "                    else:\n",
    "                        d[temp] = 0\n",
    "                        d[temp] += 1\n",
    "            \n"
   ]
  },
  {
   "cell_type": "code",
   "execution_count": 4,
   "metadata": {},
   "outputs": [],
   "source": [
    "df = pd.DataFrame.from_dict(d, orient='index')\n",
    "df.columns=['Values']"
   ]
  },
  {
   "cell_type": "code",
   "execution_count": 5,
   "metadata": {},
   "outputs": [],
   "source": [
    "df = df.sort_values(by=['Values'], ascending=False)"
   ]
  },
  {
   "cell_type": "code",
   "execution_count": 6,
   "metadata": {},
   "outputs": [
    {
     "data": {
      "text/html": [
       "<div>\n",
       "<style scoped>\n",
       "    .dataframe tbody tr th:only-of-type {\n",
       "        vertical-align: middle;\n",
       "    }\n",
       "\n",
       "    .dataframe tbody tr th {\n",
       "        vertical-align: top;\n",
       "    }\n",
       "\n",
       "    .dataframe thead th {\n",
       "        text-align: right;\n",
       "    }\n",
       "</style>\n",
       "<table border=\"1\" class=\"dataframe\">\n",
       "  <thead>\n",
       "    <tr style=\"text-align: right;\">\n",
       "      <th></th>\n",
       "      <th>Values</th>\n",
       "    </tr>\n",
       "  </thead>\n",
       "  <tbody>\n",
       "    <tr>\n",
       "      <th>type num diabetes</th>\n",
       "      <td>321</td>\n",
       "    </tr>\n",
       "    <tr>\n",
       "      <th>type num diabetes mellitus</th>\n",
       "      <td>306</td>\n",
       "    </tr>\n",
       "    <tr>\n",
       "      <th>treatment</th>\n",
       "      <td>267</td>\n",
       "    </tr>\n",
       "    <tr>\n",
       "      <th>the study</th>\n",
       "      <td>245</td>\n",
       "    </tr>\n",
       "    <tr>\n",
       "      <th>insulin</th>\n",
       "      <td>233</td>\n",
       "    </tr>\n",
       "  </tbody>\n",
       "</table>\n",
       "</div>"
      ],
      "text/plain": [
       "                            Values\n",
       "type num diabetes              321\n",
       "type num diabetes mellitus     306\n",
       "treatment                      267\n",
       "the study                      245\n",
       "insulin                        233"
      ]
     },
     "execution_count": 6,
     "metadata": {},
     "output_type": "execute_result"
    }
   ],
   "source": [
    "df.head()"
   ]
  },
  {
   "cell_type": "code",
   "execution_count": 110,
   "metadata": {},
   "outputs": [],
   "source": [
    "df.drop(df.head(4).index, inplace=True)"
   ]
  },
  {
   "cell_type": "code",
   "execution_count": 9,
   "metadata": {},
   "outputs": [
    {
     "data": {
      "text/plain": [
       "<bound method DataFrame.head of                                                     Values\n",
       "type num diabetes                                      321\n",
       "type num diabetes mellitus                             306\n",
       "treatment                                              267\n",
       "the study                                              245\n",
       "insulin                                                233\n",
       "metformin                                              224\n",
       "type 2 diabetes mellitus                               178\n",
       "diabetes                                               162\n",
       "type 2 diabetes                                        158\n",
       "type 1 diabetes                                        145\n",
       "hba1c 0                                                140\n",
       "hba1c 5                                                138\n",
       "type 1 diabetes mellitus                               118\n",
       "body mass index bmi                                     95\n",
       "hemoglobin                                              89\n",
       "medications                                             78\n",
       "bmi                                                     71\n",
       "hypertension                                            71\n",
       "diabetic ketoacidosis                                   68\n",
       "pregnancy                                               67\n",
       "diastolic blood pressure                                67\n",
       "serum creatinine                                        66\n",
       "body mass index                                         64\n",
       "pancreatitis                                            63\n",
       "systolic blood pressure                                 60\n",
       "cancer                                                  60\n",
       "blood pressure                                          54\n",
       "type                                                    52\n",
       "glucose                                                 49\n",
       "weight loss                                             48\n",
       "...                                                    ...\n",
       "infectious diseases                                      1\n",
       "alanine transaminase alt level                           1\n",
       "hypertensive retinopathy keithwagener grade iii          1\n",
       "cardiac autonomic neuropathy for example restin...       1\n",
       "stsegment elevation                                      1\n",
       "study protocol requirements                              1\n",
       "type num diabetes documented                             1\n",
       "inadequate blood sugar control                           1\n",
       "betacell transplantation                                 1\n",
       "wellestablished granulation tissue                       1\n",
       "parenteral hypoglycemic                                  1\n",
       "oral minoxidil topical minoxidil                         1\n",
       "a severe comorbid condition                              1\n",
       "impaired renal                                           1\n",
       "human immunodeficiency virus hepatitis b                 1\n",
       "external eye exam                                        1\n",
       "a num gram oral glucose tolerance test                   1\n",
       "any dipeptidyl peptidase 4 dppiv inhibitor               1\n",
       "hepatitis b surface antigen igg                          1\n",
       "outpatient                                               1\n",
       "staphylococcus                                           1\n",
       "dexamethasone                                            1\n",
       "a thorough evaluation                                    1\n",
       "contains                                                 1\n",
       "num target ulcer                                         1\n",
       "breastfeeding 7 other exclusion criteria                 1\n",
       "insulin any regimen                                      1\n",
       "an excessive resistance                                  1\n",
       "diabetic neuropathic pain                                1\n",
       "painful diabetic polyneuropathy of 1                     1\n",
       "\n",
       "[8608 rows x 1 columns]>"
      ]
     },
     "execution_count": 9,
     "metadata": {},
     "output_type": "execute_result"
    }
   ],
   "source": [
    "df.head"
   ]
  },
  {
   "cell_type": "markdown",
   "metadata": {},
   "source": [
    "### Start creating the table"
   ]
  },
  {
   "cell_type": "code",
   "execution_count": 3,
   "metadata": {},
   "outputs": [],
   "source": [
    "lst = list(itertools.product([0, 1], repeat=6))"
   ]
  },
  {
   "cell_type": "code",
   "execution_count": 4,
   "metadata": {},
   "outputs": [],
   "source": [
    "table = {}\n",
    "for i in lst:\n",
    "    table[i] = []"
   ]
  },
  {
   "cell_type": "code",
   "execution_count": 5,
   "metadata": {},
   "outputs": [
    {
     "data": {
      "text/plain": [
       "{(0, 0, 0, 0, 0, 0): [],\n",
       " (0, 0, 0, 0, 0, 1): [],\n",
       " (0, 0, 0, 0, 1, 0): [],\n",
       " (0, 0, 0, 0, 1, 1): [],\n",
       " (0, 0, 0, 1, 0, 0): [],\n",
       " (0, 0, 0, 1, 0, 1): [],\n",
       " (0, 0, 0, 1, 1, 0): [],\n",
       " (0, 0, 0, 1, 1, 1): [],\n",
       " (0, 0, 1, 0, 0, 0): [],\n",
       " (0, 0, 1, 0, 0, 1): [],\n",
       " (0, 0, 1, 0, 1, 0): [],\n",
       " (0, 0, 1, 0, 1, 1): [],\n",
       " (0, 0, 1, 1, 0, 0): [],\n",
       " (0, 0, 1, 1, 0, 1): [],\n",
       " (0, 0, 1, 1, 1, 0): [],\n",
       " (0, 0, 1, 1, 1, 1): [],\n",
       " (0, 1, 0, 0, 0, 0): [],\n",
       " (0, 1, 0, 0, 0, 1): [],\n",
       " (0, 1, 0, 0, 1, 0): [],\n",
       " (0, 1, 0, 0, 1, 1): [],\n",
       " (0, 1, 0, 1, 0, 0): [],\n",
       " (0, 1, 0, 1, 0, 1): [],\n",
       " (0, 1, 0, 1, 1, 0): [],\n",
       " (0, 1, 0, 1, 1, 1): [],\n",
       " (0, 1, 1, 0, 0, 0): [],\n",
       " (0, 1, 1, 0, 0, 1): [],\n",
       " (0, 1, 1, 0, 1, 0): [],\n",
       " (0, 1, 1, 0, 1, 1): [],\n",
       " (0, 1, 1, 1, 0, 0): [],\n",
       " (0, 1, 1, 1, 0, 1): [],\n",
       " (0, 1, 1, 1, 1, 0): [],\n",
       " (0, 1, 1, 1, 1, 1): [],\n",
       " (1, 0, 0, 0, 0, 0): [],\n",
       " (1, 0, 0, 0, 0, 1): [],\n",
       " (1, 0, 0, 0, 1, 0): [],\n",
       " (1, 0, 0, 0, 1, 1): [],\n",
       " (1, 0, 0, 1, 0, 0): [],\n",
       " (1, 0, 0, 1, 0, 1): [],\n",
       " (1, 0, 0, 1, 1, 0): [],\n",
       " (1, 0, 0, 1, 1, 1): [],\n",
       " (1, 0, 1, 0, 0, 0): [],\n",
       " (1, 0, 1, 0, 0, 1): [],\n",
       " (1, 0, 1, 0, 1, 0): [],\n",
       " (1, 0, 1, 0, 1, 1): [],\n",
       " (1, 0, 1, 1, 0, 0): [],\n",
       " (1, 0, 1, 1, 0, 1): [],\n",
       " (1, 0, 1, 1, 1, 0): [],\n",
       " (1, 0, 1, 1, 1, 1): [],\n",
       " (1, 1, 0, 0, 0, 0): [],\n",
       " (1, 1, 0, 0, 0, 1): [],\n",
       " (1, 1, 0, 0, 1, 0): [],\n",
       " (1, 1, 0, 0, 1, 1): [],\n",
       " (1, 1, 0, 1, 0, 0): [],\n",
       " (1, 1, 0, 1, 0, 1): [],\n",
       " (1, 1, 0, 1, 1, 0): [],\n",
       " (1, 1, 0, 1, 1, 1): [],\n",
       " (1, 1, 1, 0, 0, 0): [],\n",
       " (1, 1, 1, 0, 0, 1): [],\n",
       " (1, 1, 1, 0, 1, 0): [],\n",
       " (1, 1, 1, 0, 1, 1): [],\n",
       " (1, 1, 1, 1, 0, 0): [],\n",
       " (1, 1, 1, 1, 0, 1): [],\n",
       " (1, 1, 1, 1, 1, 0): [],\n",
       " (1, 1, 1, 1, 1, 1): []}"
      ]
     },
     "execution_count": 5,
     "metadata": {},
     "output_type": "execute_result"
    }
   ],
   "source": [
    "table"
   ]
  },
  {
   "cell_type": "markdown",
   "metadata": {},
   "source": [
    "### Now that we have the table, loading the inclusion_exclusion.csv and searching for the top keywords in each file"
   ]
  },
  {
   "cell_type": "code",
   "execution_count": 2,
   "metadata": {},
   "outputs": [],
   "source": [
    "inc_ex_df = pd.read_csv('inclusion_exclusion.csv')"
   ]
  },
  {
   "cell_type": "code",
   "execution_count": 3,
   "metadata": {},
   "outputs": [],
   "source": [
    "inc_ex_df = inc_ex_df.set_index('NCT')"
   ]
  },
  {
   "cell_type": "code",
   "execution_count": 4,
   "metadata": {},
   "outputs": [],
   "source": [
    "inc_ex_df = inc_ex_df.drop(['Unnamed: 0'], axis=1)"
   ]
  },
  {
   "cell_type": "code",
   "execution_count": 5,
   "metadata": {},
   "outputs": [
    {
     "data": {
      "text/plain": [
       "904"
      ]
     },
     "execution_count": 5,
     "metadata": {},
     "output_type": "execute_result"
    }
   ],
   "source": [
    "len(inc_ex_df)"
   ]
  },
  {
   "cell_type": "code",
   "execution_count": 6,
   "metadata": {},
   "outputs": [
    {
     "data": {
      "text/html": [
       "<div>\n",
       "<style scoped>\n",
       "    .dataframe tbody tr th:only-of-type {\n",
       "        vertical-align: middle;\n",
       "    }\n",
       "\n",
       "    .dataframe tbody tr th {\n",
       "        vertical-align: top;\n",
       "    }\n",
       "\n",
       "    .dataframe thead th {\n",
       "        text-align: right;\n",
       "    }\n",
       "</style>\n",
       "<table border=\"1\" class=\"dataframe\">\n",
       "  <thead>\n",
       "    <tr style=\"text-align: right;\">\n",
       "      <th></th>\n",
       "      <th>Exclusion</th>\n",
       "      <th>Inclusion</th>\n",
       "    </tr>\n",
       "    <tr>\n",
       "      <th>NCT</th>\n",
       "      <th></th>\n",
       "      <th></th>\n",
       "    </tr>\n",
       "  </thead>\n",
       "  <tbody>\n",
       "    <tr>\n",
       "      <th>NCT02325466</th>\n",
       "      <td>:            -  Subject is pregnant or breast-...</td>\n",
       "      <td>:            -  Female or male aged ≥ 35 years...</td>\n",
       "    </tr>\n",
       "    <tr>\n",
       "      <th>NCT00555217</th>\n",
       "      <td>:            -  History of intolerance to ACEI...</td>\n",
       "      <td>:            -  Type 2 diabetes            -  ...</td>\n",
       "    </tr>\n",
       "    <tr>\n",
       "      <th>NCT03211858</th>\n",
       "      <td>NaN</td>\n",
       "      <td>I</td>\n",
       "    </tr>\n",
       "    <tr>\n",
       "      <th>NCT02429258</th>\n",
       "      <td>:            -  For patients who enter the stu...</td>\n",
       "      <td>:            -  Type 2 diabetes mellitus (T2DM...</td>\n",
       "    </tr>\n",
       "    <tr>\n",
       "      <th>NCT01106625</th>\n",
       "      <td>:            -  History of diabetic ketoacidos...</td>\n",
       "      <td>:            -  All patients must have a diagn...</td>\n",
       "    </tr>\n",
       "  </tbody>\n",
       "</table>\n",
       "</div>"
      ],
      "text/plain": [
       "                                                     Exclusion  \\\n",
       "NCT                                                              \n",
       "NCT02325466  :            -  Subject is pregnant or breast-...   \n",
       "NCT00555217  :            -  History of intolerance to ACEI...   \n",
       "NCT03211858                                                NaN   \n",
       "NCT02429258  :            -  For patients who enter the stu...   \n",
       "NCT01106625  :            -  History of diabetic ketoacidos...   \n",
       "\n",
       "                                                     Inclusion  \n",
       "NCT                                                             \n",
       "NCT02325466  :            -  Female or male aged ≥ 35 years...  \n",
       "NCT00555217  :            -  Type 2 diabetes            -  ...  \n",
       "NCT03211858                                                  I  \n",
       "NCT02429258  :            -  Type 2 diabetes mellitus (T2DM...  \n",
       "NCT01106625  :            -  All patients must have a diagn...  "
      ]
     },
     "execution_count": 6,
     "metadata": {},
     "output_type": "execute_result"
    }
   ],
   "source": [
    "inc_ex_df.head()"
   ]
  },
  {
   "cell_type": "markdown",
   "metadata": {},
   "source": [
    "### Now search in inclusion and exclusion for 3 features\n",
    "### Features: hypertension, insulin, metformin \n",
    "#### all features have following convention: 0 if not in inclusion or if in exclusion, 1 otherwise"
   ]
  },
  {
   "cell_type": "code",
   "execution_count": 7,
   "metadata": {},
   "outputs": [],
   "source": [
    "f = pd.DataFrame(columns=['hypertension', 'metformin', 'insulin'])"
   ]
  },
  {
   "cell_type": "code",
   "execution_count": 8,
   "metadata": {},
   "outputs": [],
   "source": [
    "def findVal(word, criteria):\n",
    "    if word in criteria.lower():\n",
    "        return 1\n",
    "    return 0"
   ]
  },
  {
   "cell_type": "code",
   "execution_count": 9,
   "metadata": {},
   "outputs": [],
   "source": [
    "import csv\n",
    "\n",
    "words = [\"hypertension\", \"metformin\", \"insulin\"]\n",
    "store = dict()\n",
    "with open(\"inclusion_exclusion.csv\", \"r\") as file:\n",
    "    reader = csv.reader(file)\n",
    "    for row in reader:\n",
    "        result =[]\n",
    "        for word in words:\n",
    "            result.append(findVal(word, row[2]))\n",
    "        store[row[3]]=result"
   ]
  },
  {
   "cell_type": "code",
   "execution_count": 10,
   "metadata": {},
   "outputs": [],
   "source": [
    "del(store['NCT'])"
   ]
  },
  {
   "cell_type": "markdown",
   "metadata": {},
   "source": [
    "### Store dict holds the required table"
   ]
  },
  {
   "cell_type": "code",
   "execution_count": null,
   "metadata": {},
   "outputs": [],
   "source": []
  },
  {
   "cell_type": "code",
   "execution_count": null,
   "metadata": {},
   "outputs": [],
   "source": []
  },
  {
   "cell_type": "code",
   "execution_count": null,
   "metadata": {},
   "outputs": [],
   "source": []
  },
  {
   "cell_type": "markdown",
   "metadata": {},
   "source": [
    "## Finding out the ranges for bmi"
   ]
  },
  {
   "cell_type": "code",
   "execution_count": 63,
   "metadata": {},
   "outputs": [],
   "source": [
    "bmi_dict = {}"
   ]
  },
  {
   "cell_type": "code",
   "execution_count": 64,
   "metadata": {},
   "outputs": [],
   "source": [
    "for filename in glob.glob('samples/*.con'):\n",
    "#     print(\"****************************************************************\")\n",
    "#     print(filename)\n",
    "#     print(\"****************************************************************\")\n",
    "    with open(filename) as f:\n",
    "        for line in f:\n",
    "            if not line:\n",
    "                pass\n",
    "            else:\n",
    "                bmi_line = re.findall(r'bmi [0-9]*', line)\n",
    "                if bmi_line:\n",
    "                    # Here we have all those string which have bmi and some value in them\n",
    "                    digit = re.findall(r'\\d+', bmi_line[0])\n",
    "                    if digit:\n",
    "                        digit = int(digit[0])\n",
    "#                     print(digit)\n",
    "                        name = filename.split(\"/\")\n",
    "                        name = name[1].split(\".\")[0]\n",
    "                        bmi_dict.update({name:digit})\n",
    "#                     digit = int(filter(str.isdigit, bmi_line[0]))\n",
    "#                     print(digit)"
   ]
  },
  {
   "cell_type": "code",
   "execution_count": 65,
   "metadata": {},
   "outputs": [
    {
     "data": {
      "text/plain": [
       "{'NCT00015626': 1,\n",
       " 'NCT00017953': 25,\n",
       " 'NCT00029848': 27,\n",
       " 'NCT00035984': 27,\n",
       " 'NCT00039013': 27,\n",
       " 'NCT00039026': 27,\n",
       " 'NCT00058981': 40,\n",
       " 'NCT00099320': 25,\n",
       " 'NCT00104182': 40,\n",
       " 'NCT00111540': 25,\n",
       " 'NCT00135330': 25,\n",
       " 'NCT00147719': 45,\n",
       " 'NCT00147758': 45,\n",
       " 'NCT00196989': 25,\n",
       " 'NCT00212641': 4,\n",
       " 'NCT00220961': 135,\n",
       " 'NCT00239538': 7,\n",
       " 'NCT00240370': 41,\n",
       " 'NCT00294723': 45,\n",
       " 'NCT00303134': 7,\n",
       " 'NCT00308139': 25,\n",
       " 'NCT00308308': 35,\n",
       " 'NCT00309244': 40,\n",
       " 'NCT00322257': 40,\n",
       " 'NCT00328172': 6,\n",
       " 'NCT00332488': 40,\n",
       " 'NCT00332826': 40,\n",
       " 'NCT00333151': 45,\n",
       " 'NCT00386100': 25,\n",
       " 'NCT00391196': 27,\n",
       " 'NCT00399711': 45,\n",
       " 'NCT00406458': 38,\n",
       " 'NCT00411892': 40,\n",
       " 'NCT00425919': 23,\n",
       " 'NCT00427154': 40,\n",
       " 'NCT00467649': 25,\n",
       " 'NCT00474630': 27,\n",
       " 'NCT00476931': 38,\n",
       " 'NCT00478322': 2,\n",
       " 'NCT00484198': 45,\n",
       " 'NCT00495469': 22,\n",
       " 'NCT00502710': 25,\n",
       " 'NCT00509223': 4,\n",
       " 'NCT00510952': 25,\n",
       " 'NCT00518882': 45,\n",
       " 'NCT00535535': 25,\n",
       " 'NCT00547482': 1,\n",
       " 'NCT00553787': 27,\n",
       " 'NCT00565799': 35,\n",
       " 'NCT00596973': 3,\n",
       " 'NCT00598793': 40,\n",
       " 'NCT00615212': 50,\n",
       " 'NCT00625859': 19,\n",
       " 'NCT00630825': 27,\n",
       " 'NCT00637273': 25,\n",
       " 'NCT00641251': 3,\n",
       " 'NCT00642278': 25,\n",
       " 'NCT00650806': 30,\n",
       " 'NCT00683657': 40,\n",
       " 'NCT00700817': 45,\n",
       " 'NCT00717457': 25,\n",
       " 'NCT00729079': 24,\n",
       " 'NCT00734474': 25,\n",
       " 'NCT00744367': 25,\n",
       " 'NCT00749190': 6,\n",
       " 'NCT00754988': 25,\n",
       " 'NCT00755287': 25,\n",
       " 'NCT00765817': 45,\n",
       " 'NCT00789191': 45,\n",
       " 'NCT00789737': 40,\n",
       " 'NCT00795691': 2,\n",
       " 'NCT00814294': 45,\n",
       " 'NCT00821977': 22,\n",
       " 'NCT00823992': 30,\n",
       " 'NCT00838903': 20,\n",
       " 'NCT00838916': 20,\n",
       " 'NCT00839527': 20,\n",
       " 'NCT00849017': 20,\n",
       " 'NCT00849056': 20,\n",
       " 'NCT00851201': 85,\n",
       " 'NCT00877890': 25,\n",
       " 'NCT00909480': 35,\n",
       " 'NCT00920764': 6,\n",
       " 'NCT00929539': 2,\n",
       " 'NCT00947557': 20,\n",
       " 'NCT00952445': 42,\n",
       " 'NCT00954447': 45,\n",
       " 'NCT00960765': 40,\n",
       " 'NCT00970424': 20,\n",
       " 'NCT00976391': 20,\n",
       " 'NCT00978627': 35,\n",
       " 'NCT00982228': 35,\n",
       " 'NCT00982644': 40,\n",
       " 'NCT00999050': 2,\n",
       " 'NCT01011868': 6,\n",
       " 'NCT01018173': 23,\n",
       " 'NCT01028846': 23,\n",
       " 'NCT01035879': 26,\n",
       " 'NCT01045447': 40,\n",
       " 'NCT01045707': 40,\n",
       " 'NCT01046110': 40,\n",
       " 'NCT01064687': 23,\n",
       " 'NCT01068665': 45,\n",
       " 'NCT01068678': 45,\n",
       " 'NCT01076647': 45,\n",
       " 'NCT01079234': 35,\n",
       " 'NCT01087502': 5,\n",
       " 'NCT01098539': 20,\n",
       " 'NCT01109316': 35,\n",
       " 'NCT01117350': 25,\n",
       " 'NCT01126580': 23,\n",
       " 'NCT01128894': 20,\n",
       " 'NCT01137695': 3,\n",
       " 'NCT01149421': 23,\n",
       " 'NCT01154933': 30,\n",
       " 'NCT01158417': 2,\n",
       " 'NCT01163721': 25,\n",
       " 'NCT01165684': 40,\n",
       " 'NCT01167881': 45,\n",
       " 'NCT01177709': 35,\n",
       " 'NCT01191268': 23,\n",
       " 'NCT01191320': 26,\n",
       " 'NCT01194830': 7,\n",
       " 'NCT01196104': 45,\n",
       " 'NCT01210001': 5,\n",
       " 'NCT01231308': 4,\n",
       " 'NCT01232491': 25,\n",
       " 'NCT01243424': 4,\n",
       " 'NCT01262898': 18,\n",
       " 'NCT01272219': 30,\n",
       " 'NCT01272232': 27,\n",
       " 'NCT01326026': 45,\n",
       " 'NCT01336023': 40,\n",
       " 'NCT01354977': 26,\n",
       " 'NCT01364428': 45,\n",
       " 'NCT01365507': 45,\n",
       " 'NCT01392573': 27,\n",
       " 'NCT01414920': 5,\n",
       " 'NCT01445951': 38,\n",
       " 'NCT01451398': 45,\n",
       " 'NCT01455857': 25,\n",
       " 'NCT01455870': 25,\n",
       " 'NCT01464437': 25,\n",
       " 'NCT01468987': 45,\n",
       " 'NCT01472185': 25,\n",
       " 'NCT01474083': 20,\n",
       " 'NCT01475786': 45,\n",
       " 'NCT01476475': 20,\n",
       " 'NCT01515384': 18,\n",
       " 'NCT01516320': 35,\n",
       " 'NCT01524705': 14,\n",
       " 'NCT01549964': 4,\n",
       " 'NCT01562782': 18,\n",
       " 'NCT01601574': 4,\n",
       " 'NCT01601704': 2,\n",
       " 'NCT01606007': 45,\n",
       " 'NCT01618162': 40,\n",
       " 'NCT01619059': 4,\n",
       " 'NCT01620489': 20,\n",
       " 'NCT01621178': 23,\n",
       " 'NCT01652716': 45,\n",
       " 'NCT01676116': 40,\n",
       " 'NCT01680341': 40,\n",
       " 'NCT01681290': 18,\n",
       " 'NCT01699737': 23,\n",
       " 'NCT01714102': 30,\n",
       " 'NCT01722227': 9,\n",
       " 'NCT01722240': 6,\n",
       " 'NCT01728116': 30,\n",
       " 'NCT01741103': 6,\n",
       " 'NCT01753362': 6,\n",
       " 'NCT01768559': 20,\n",
       " 'NCT01769378': 45,\n",
       " 'NCT01801254': 24,\n",
       " 'NCT01819129': 40,\n",
       " 'NCT01822925': 37,\n",
       " 'NCT01829464': 6,\n",
       " 'NCT01829477': 5,\n",
       " 'NCT01831765': 35,\n",
       " 'NCT01834274': 6,\n",
       " 'NCT01849289': 40,\n",
       " 'NCT01850615': 40,\n",
       " 'NCT01867216': 18,\n",
       " 'NCT01897532': 6,\n",
       " 'NCT01923181': 25,\n",
       " 'NCT01986881': 18,\n",
       " 'NCT01994746': 3,\n",
       " 'NCT02015780': 8,\n",
       " 'NCT02019264': 1,\n",
       " 'NCT02030600': 45,\n",
       " 'NCT02034513': 45,\n",
       " 'NCT02058147': 20,\n",
       " 'NCT02058160': 20,\n",
       " 'NCT02081352': 45,\n",
       " 'NCT02093221': 28,\n",
       " 'NCT02135549': 25,\n",
       " 'NCT02171130': 18,\n",
       " 'NCT02210000': 18,\n",
       " 'NCT02227862': 18,\n",
       " 'NCT02227875': 18,\n",
       " 'NCT02236754': 5,\n",
       " 'NCT02251067': 45,\n",
       " 'NCT02266823': 2,\n",
       " 'NCT02268214': 18,\n",
       " 'NCT02276742': 2,\n",
       " 'NCT02277509': 23,\n",
       " 'NCT02287285': 35,\n",
       " 'NCT02298192': 40,\n",
       " 'NCT02302716': 45,\n",
       " 'NCT02307279': 27,\n",
       " 'NCT02372630': 20,\n",
       " 'NCT02384889': 10,\n",
       " 'NCT02390050': 4,\n",
       " 'NCT02420262': 40,\n",
       " 'NCT02427464': 22,\n",
       " 'NCT02429258': 45,\n",
       " 'NCT02433678': 30,\n",
       " 'NCT02453711': 30,\n",
       " 'NCT02460978': 18,\n",
       " 'NCT02461589': 25,\n",
       " 'NCT02520258': 3,\n",
       " 'NCT02526524': 3,\n",
       " 'NCT02555631': 24,\n",
       " 'NCT02580591': 18,\n",
       " 'NCT02583919': 25,\n",
       " 'NCT02597049': 45,\n",
       " 'NCT02621008': 24,\n",
       " 'NCT02638805': 25,\n",
       " 'NCT02681094': 4,\n",
       " 'NCT02773368': 20,\n",
       " 'NCT02794155': 3,\n",
       " 'NCT02811484': 27,\n",
       " 'NCT02836574': 45,\n",
       " 'NCT02851849': 8,\n",
       " 'NCT02906917': 45,\n",
       " 'NCT02962492': 20,\n",
       " 'NCT02963922': 27,\n",
       " 'NCT02972996': 25,\n",
       " 'NCT02973321': 25,\n",
       " 'NCT03060538': 27,\n",
       " 'NCT03060980': 25,\n",
       " 'NCT03066830': 20,\n",
       " 'NCT03078478': 45,\n",
       " 'NCT03131687': 23,\n",
       " 'NCT03165227': 18,\n",
       " 'NCT03211858': 35,\n",
       " 'NCT03217591': 20,\n",
       " 'NCT03240432': 2,\n",
       " 'NCT03258723': 25,\n",
       " 'NCT03259789': 45,\n",
       " 'NCT03325114': 99,\n",
       " 'NCT03336411': 27,\n",
       " 'NCT03351478': 20}"
      ]
     },
     "execution_count": 65,
     "metadata": {},
     "output_type": "execute_result"
    }
   ],
   "source": [
    "bmi_dict"
   ]
  },
  {
   "cell_type": "code",
   "execution_count": 66,
   "metadata": {},
   "outputs": [],
   "source": [
    "bmi_dataframe = pd.DataFrame.from_dict(bmi_dict, orient='index')"
   ]
  },
  {
   "cell_type": "code",
   "execution_count": 68,
   "metadata": {},
   "outputs": [
    {
     "data": {
      "text/html": [
       "<div>\n",
       "<style scoped>\n",
       "    .dataframe tbody tr th:only-of-type {\n",
       "        vertical-align: middle;\n",
       "    }\n",
       "\n",
       "    .dataframe tbody tr th {\n",
       "        vertical-align: top;\n",
       "    }\n",
       "\n",
       "    .dataframe thead th {\n",
       "        text-align: right;\n",
       "    }\n",
       "</style>\n",
       "<table border=\"1\" class=\"dataframe\">\n",
       "  <thead>\n",
       "    <tr style=\"text-align: right;\">\n",
       "      <th></th>\n",
       "      <th>0</th>\n",
       "    </tr>\n",
       "  </thead>\n",
       "  <tbody>\n",
       "    <tr>\n",
       "      <th>NCT00411892</th>\n",
       "      <td>40</td>\n",
       "    </tr>\n",
       "    <tr>\n",
       "      <th>NCT00947557</th>\n",
       "      <td>20</td>\n",
       "    </tr>\n",
       "    <tr>\n",
       "      <th>NCT01165684</th>\n",
       "      <td>40</td>\n",
       "    </tr>\n",
       "    <tr>\n",
       "      <th>NCT03060980</th>\n",
       "      <td>25</td>\n",
       "    </tr>\n",
       "    <tr>\n",
       "      <th>NCT02580591</th>\n",
       "      <td>18</td>\n",
       "    </tr>\n",
       "  </tbody>\n",
       "</table>\n",
       "</div>"
      ],
      "text/plain": [
       "              0\n",
       "NCT00411892  40\n",
       "NCT00947557  20\n",
       "NCT01165684  40\n",
       "NCT03060980  25\n",
       "NCT02580591  18"
      ]
     },
     "execution_count": 68,
     "metadata": {},
     "output_type": "execute_result"
    }
   ],
   "source": [
    "bmi_dataframe.head()"
   ]
  },
  {
   "cell_type": "code",
   "execution_count": null,
   "metadata": {},
   "outputs": [],
   "source": []
  }
 ],
 "metadata": {
  "kernelspec": {
   "display_name": "Python 2",
   "language": "python",
   "name": "python2"
  },
  "language_info": {
   "codemirror_mode": {
    "name": "ipython",
    "version": 3
   },
   "file_extension": ".py",
   "mimetype": "text/x-python",
   "name": "python",
   "nbconvert_exporter": "python",
   "pygments_lexer": "ipython3",
   "version": "3.5.2"
  }
 },
 "nbformat": 4,
 "nbformat_minor": 2
}
