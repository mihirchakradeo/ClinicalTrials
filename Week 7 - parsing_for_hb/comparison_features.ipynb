{
 "cells": [
  {
   "cell_type": "markdown",
   "metadata": {},
   "source": [
    "# This notebook helps to create the B tree in form of a table"
   ]
  },
  {
   "cell_type": "markdown",
   "metadata": {},
   "source": [
    "### First createing a dict with each word across all the con files and taking its count"
   ]
  },
  {
   "cell_type": "code",
   "execution_count": 1,
   "metadata": {},
   "outputs": [],
   "source": [
    "import pandas as pd\n",
    "import numpy as np\n",
    "import glob\n",
    "import re\n",
    "from nltk.corpus import stopwords\n",
    "import string\n",
    "import operator\n",
    "import itertools"
   ]
  },
  {
   "cell_type": "code",
   "execution_count": 2,
   "metadata": {},
   "outputs": [],
   "source": [
    "d = dict()\n",
    "stop = stopwords.words('english') + list(string.punctuation)"
   ]
  },
  {
   "cell_type": "code",
   "execution_count": 3,
   "metadata": {},
   "outputs": [],
   "source": [
    "for filename in glob.glob('samples/*.con'):\n",
    "#     print(\"****************************************************************\")\n",
    "#     print(filename)\n",
    "#     print(\"****************************************************************\")\n",
    "    with open(filename) as f:\n",
    "        for line in f:\n",
    "            if not line:\n",
    "                pass\n",
    "            else:\n",
    "                if len(line.split(\"\\\"\")) == 5:\n",
    "                    temp = line.split(\"\\\"\")[1]\n",
    "                    x = temp.translate(None, string.punctuation)\n",
    "                    temp = x.strip()\n",
    "        #             temp_arr = [i for i in temp.split() if i not in stop]\n",
    "                    if temp in d:\n",
    "                        d[temp] += 1\n",
    "\n",
    "                    else:\n",
    "                        d[temp] = 0\n",
    "                        d[temp] += 1\n",
    "            \n"
   ]
  },
  {
   "cell_type": "code",
   "execution_count": 4,
   "metadata": {},
   "outputs": [],
   "source": [
    "df = pd.DataFrame.from_dict(d, orient='index')\n",
    "df.columns=['Values']"
   ]
  },
  {
   "cell_type": "code",
   "execution_count": 5,
   "metadata": {},
   "outputs": [],
   "source": [
    "df = df.sort_values(by=['Values'], ascending=False)"
   ]
  },
  {
   "cell_type": "code",
   "execution_count": 6,
   "metadata": {},
   "outputs": [
    {
     "data": {
      "text/html": [
       "<div>\n",
       "<style scoped>\n",
       "    .dataframe tbody tr th:only-of-type {\n",
       "        vertical-align: middle;\n",
       "    }\n",
       "\n",
       "    .dataframe tbody tr th {\n",
       "        vertical-align: top;\n",
       "    }\n",
       "\n",
       "    .dataframe thead th {\n",
       "        text-align: right;\n",
       "    }\n",
       "</style>\n",
       "<table border=\"1\" class=\"dataframe\">\n",
       "  <thead>\n",
       "    <tr style=\"text-align: right;\">\n",
       "      <th></th>\n",
       "      <th>Values</th>\n",
       "    </tr>\n",
       "  </thead>\n",
       "  <tbody>\n",
       "    <tr>\n",
       "      <th>type num diabetes</th>\n",
       "      <td>321</td>\n",
       "    </tr>\n",
       "    <tr>\n",
       "      <th>type num diabetes mellitus</th>\n",
       "      <td>306</td>\n",
       "    </tr>\n",
       "    <tr>\n",
       "      <th>treatment</th>\n",
       "      <td>267</td>\n",
       "    </tr>\n",
       "    <tr>\n",
       "      <th>the study</th>\n",
       "      <td>245</td>\n",
       "    </tr>\n",
       "    <tr>\n",
       "      <th>insulin</th>\n",
       "      <td>233</td>\n",
       "    </tr>\n",
       "  </tbody>\n",
       "</table>\n",
       "</div>"
      ],
      "text/plain": [
       "                            Values\n",
       "type num diabetes              321\n",
       "type num diabetes mellitus     306\n",
       "treatment                      267\n",
       "the study                      245\n",
       "insulin                        233"
      ]
     },
     "execution_count": 6,
     "metadata": {},
     "output_type": "execute_result"
    }
   ],
   "source": [
    "df.head()"
   ]
  },
  {
   "cell_type": "code",
   "execution_count": 110,
   "metadata": {},
   "outputs": [],
   "source": [
    "df.drop(df.head(4).index, inplace=True)"
   ]
  },
  {
   "cell_type": "code",
   "execution_count": 9,
   "metadata": {},
   "outputs": [
    {
     "data": {
      "text/plain": [
       "<bound method DataFrame.head of                                                     Values\n",
       "type num diabetes                                      321\n",
       "type num diabetes mellitus                             306\n",
       "treatment                                              267\n",
       "the study                                              245\n",
       "insulin                                                233\n",
       "metformin                                              224\n",
       "type 2 diabetes mellitus                               178\n",
       "diabetes                                               162\n",
       "type 2 diabetes                                        158\n",
       "type 1 diabetes                                        145\n",
       "hba1c 0                                                140\n",
       "hba1c 5                                                138\n",
       "type 1 diabetes mellitus                               118\n",
       "body mass index bmi                                     95\n",
       "hemoglobin                                              89\n",
       "medications                                             78\n",
       "bmi                                                     71\n",
       "hypertension                                            71\n",
       "diabetic ketoacidosis                                   68\n",
       "pregnancy                                               67\n",
       "diastolic blood pressure                                67\n",
       "serum creatinine                                        66\n",
       "body mass index                                         64\n",
       "pancreatitis                                            63\n",
       "systolic blood pressure                                 60\n",
       "cancer                                                  60\n",
       "blood pressure                                          54\n",
       "type                                                    52\n",
       "glucose                                                 49\n",
       "weight loss                                             48\n",
       "...                                                    ...\n",
       "infectious diseases                                      1\n",
       "alanine transaminase alt level                           1\n",
       "hypertensive retinopathy keithwagener grade iii          1\n",
       "cardiac autonomic neuropathy for example restin...       1\n",
       "stsegment elevation                                      1\n",
       "study protocol requirements                              1\n",
       "type num diabetes documented                             1\n",
       "inadequate blood sugar control                           1\n",
       "betacell transplantation                                 1\n",
       "wellestablished granulation tissue                       1\n",
       "parenteral hypoglycemic                                  1\n",
       "oral minoxidil topical minoxidil                         1\n",
       "a severe comorbid condition                              1\n",
       "impaired renal                                           1\n",
       "human immunodeficiency virus hepatitis b                 1\n",
       "external eye exam                                        1\n",
       "a num gram oral glucose tolerance test                   1\n",
       "any dipeptidyl peptidase 4 dppiv inhibitor               1\n",
       "hepatitis b surface antigen igg                          1\n",
       "outpatient                                               1\n",
       "staphylococcus                                           1\n",
       "dexamethasone                                            1\n",
       "a thorough evaluation                                    1\n",
       "contains                                                 1\n",
       "num target ulcer                                         1\n",
       "breastfeeding 7 other exclusion criteria                 1\n",
       "insulin any regimen                                      1\n",
       "an excessive resistance                                  1\n",
       "diabetic neuropathic pain                                1\n",
       "painful diabetic polyneuropathy of 1                     1\n",
       "\n",
       "[8608 rows x 1 columns]>"
      ]
     },
     "execution_count": 9,
     "metadata": {},
     "output_type": "execute_result"
    }
   ],
   "source": [
    "df.head"
   ]
  },
  {
   "cell_type": "markdown",
   "metadata": {},
   "source": [
    "### Start creating the table"
   ]
  },
  {
   "cell_type": "code",
   "execution_count": 3,
   "metadata": {},
   "outputs": [],
   "source": [
    "lst = list(itertools.product([0, 1], repeat=6))"
   ]
  },
  {
   "cell_type": "code",
   "execution_count": 11,
   "metadata": {},
   "outputs": [],
   "source": [
    "table = {}\n",
    "for i in lst:\n",
    "    table[i] = []"
   ]
  },
  {
   "cell_type": "code",
   "execution_count": 12,
   "metadata": {},
   "outputs": [
    {
     "data": {
      "text/plain": [
       "{(0, 0, 0, 0, 0, 0): [],\n",
       " (0, 0, 0, 0, 0, 1): [],\n",
       " (0, 0, 0, 0, 1, 0): [],\n",
       " (0, 0, 0, 0, 1, 1): [],\n",
       " (0, 0, 0, 1, 0, 0): [],\n",
       " (0, 0, 0, 1, 0, 1): [],\n",
       " (0, 0, 0, 1, 1, 0): [],\n",
       " (0, 0, 0, 1, 1, 1): [],\n",
       " (0, 0, 1, 0, 0, 0): [],\n",
       " (0, 0, 1, 0, 0, 1): [],\n",
       " (0, 0, 1, 0, 1, 0): [],\n",
       " (0, 0, 1, 0, 1, 1): [],\n",
       " (0, 0, 1, 1, 0, 0): [],\n",
       " (0, 0, 1, 1, 0, 1): [],\n",
       " (0, 0, 1, 1, 1, 0): [],\n",
       " (0, 0, 1, 1, 1, 1): [],\n",
       " (0, 1, 0, 0, 0, 0): [],\n",
       " (0, 1, 0, 0, 0, 1): [],\n",
       " (0, 1, 0, 0, 1, 0): [],\n",
       " (0, 1, 0, 0, 1, 1): [],\n",
       " (0, 1, 0, 1, 0, 0): [],\n",
       " (0, 1, 0, 1, 0, 1): [],\n",
       " (0, 1, 0, 1, 1, 0): [],\n",
       " (0, 1, 0, 1, 1, 1): [],\n",
       " (0, 1, 1, 0, 0, 0): [],\n",
       " (0, 1, 1, 0, 0, 1): [],\n",
       " (0, 1, 1, 0, 1, 0): [],\n",
       " (0, 1, 1, 0, 1, 1): [],\n",
       " (0, 1, 1, 1, 0, 0): [],\n",
       " (0, 1, 1, 1, 0, 1): [],\n",
       " (0, 1, 1, 1, 1, 0): [],\n",
       " (0, 1, 1, 1, 1, 1): [],\n",
       " (1, 0, 0, 0, 0, 0): [],\n",
       " (1, 0, 0, 0, 0, 1): [],\n",
       " (1, 0, 0, 0, 1, 0): [],\n",
       " (1, 0, 0, 0, 1, 1): [],\n",
       " (1, 0, 0, 1, 0, 0): [],\n",
       " (1, 0, 0, 1, 0, 1): [],\n",
       " (1, 0, 0, 1, 1, 0): [],\n",
       " (1, 0, 0, 1, 1, 1): [],\n",
       " (1, 0, 1, 0, 0, 0): [],\n",
       " (1, 0, 1, 0, 0, 1): [],\n",
       " (1, 0, 1, 0, 1, 0): [],\n",
       " (1, 0, 1, 0, 1, 1): [],\n",
       " (1, 0, 1, 1, 0, 0): [],\n",
       " (1, 0, 1, 1, 0, 1): [],\n",
       " (1, 0, 1, 1, 1, 0): [],\n",
       " (1, 0, 1, 1, 1, 1): [],\n",
       " (1, 1, 0, 0, 0, 0): [],\n",
       " (1, 1, 0, 0, 0, 1): [],\n",
       " (1, 1, 0, 0, 1, 0): [],\n",
       " (1, 1, 0, 0, 1, 1): [],\n",
       " (1, 1, 0, 1, 0, 0): [],\n",
       " (1, 1, 0, 1, 0, 1): [],\n",
       " (1, 1, 0, 1, 1, 0): [],\n",
       " (1, 1, 0, 1, 1, 1): [],\n",
       " (1, 1, 1, 0, 0, 0): [],\n",
       " (1, 1, 1, 0, 0, 1): [],\n",
       " (1, 1, 1, 0, 1, 0): [],\n",
       " (1, 1, 1, 0, 1, 1): [],\n",
       " (1, 1, 1, 1, 0, 0): [],\n",
       " (1, 1, 1, 1, 0, 1): [],\n",
       " (1, 1, 1, 1, 1, 0): [],\n",
       " (1, 1, 1, 1, 1, 1): []}"
      ]
     },
     "execution_count": 12,
     "metadata": {},
     "output_type": "execute_result"
    }
   ],
   "source": [
    "table"
   ]
  },
  {
   "cell_type": "markdown",
   "metadata": {},
   "source": [
    "### Now that we have the table, loading the inclusion_exclusion.csv and searching for the top keywords in each file"
   ]
  },
  {
   "cell_type": "code",
   "execution_count": null,
   "metadata": {},
   "outputs": [],
   "source": []
  }
 ],
 "metadata": {
  "kernelspec": {
   "display_name": "Python 2",
   "language": "python",
   "name": "python2"
  },
  "language_info": {
   "codemirror_mode": {
    "name": "ipython",
    "version": 3
   },
   "file_extension": ".py",
   "mimetype": "text/x-python",
   "name": "python",
   "nbconvert_exporter": "python",
   "pygments_lexer": "ipython3",
   "version": "3.5.2"
  }
 },
 "nbformat": 4,
 "nbformat_minor": 2
}
