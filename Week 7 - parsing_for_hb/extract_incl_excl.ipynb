{
 "cells": [
  {
   "cell_type": "markdown",
   "metadata": {},
   "source": [
    "# This notebook splits eligibility from all files to inclusion and exclusion"
   ]
  },
  {
   "cell_type": "code",
   "execution_count": 1,
   "metadata": {},
   "outputs": [],
   "source": [
    "import pandas as pd\n",
    "import re\n",
    "import xml.etree.cElementTree as et\n",
    "import matplotlib.pyplot as plt\n",
    "from nltk.corpus import stopwords\n",
    "from nltk.tokenize import word_tokenize\n",
    "import numpy as np"
   ]
  },
  {
   "cell_type": "code",
   "execution_count": 2,
   "metadata": {},
   "outputs": [],
   "source": [
    "#trying conversion from xml to pandas dictionary\n",
    "import os\n",
    "import glob\n",
    "\n",
    "# file = os.listdir(\"./xml/\")\n",
    "d = {}\n",
    "eligibility = None\n",
    "file = glob.glob(\"xml/*\")\n",
    "for i in range(len(file)):\n",
    "    try:\n",
    "        parsedXML = et.parse(file[i])\n",
    "        if parsedXML is not None:\n",
    "            for node in parsedXML.getroot():\n",
    "                if node is not None:\n",
    "                    if node.tag == \"id_info\":\n",
    "                        for child in node:\n",
    "                            if child is not None:\n",
    "                                if child.tag == \"nct_id\":\n",
    "                                    index = child.text\n",
    "                    if node.tag == \"eligibility\":\n",
    "                        if node[0][0] is not None and node[0][0].text is not None:\n",
    "                            eligibility = node[0][0].text\n",
    "#                             print index\n",
    "#                             print node[0][0].text\n",
    "                    if eligibility is not None:\n",
    "                        d[index] = eligibility\n",
    "    except:\n",
    "        d[index] = \"N/A\"\n",
    "        continue"
   ]
  },
  {
   "cell_type": "code",
   "execution_count": 3,
   "metadata": {
    "collapsed": true
   },
   "outputs": [],
   "source": [
    "df_nct_el = pd.DataFrame(list(d.items()), columns=['NCT Number', 'Eligibility'])"
   ]
  },
  {
   "cell_type": "code",
   "execution_count": 5,
   "metadata": {},
   "outputs": [
    {
     "data": {
      "text/html": [
       "<div>\n",
       "<style scoped>\n",
       "    .dataframe tbody tr th:only-of-type {\n",
       "        vertical-align: middle;\n",
       "    }\n",
       "\n",
       "    .dataframe tbody tr th {\n",
       "        vertical-align: top;\n",
       "    }\n",
       "\n",
       "    .dataframe thead th {\n",
       "        text-align: right;\n",
       "    }\n",
       "</style>\n",
       "<table border=\"1\" class=\"dataframe\">\n",
       "  <thead>\n",
       "    <tr style=\"text-align: right;\">\n",
       "      <th></th>\n",
       "      <th>NCT Number</th>\n",
       "      <th>Eligibility</th>\n",
       "    </tr>\n",
       "  </thead>\n",
       "  <tbody>\n",
       "    <tr>\n",
       "      <th>0</th>\n",
       "      <td>NCT02325466</td>\n",
       "      <td>\\n        Inclusion Criteria:\\n\\n          -  ...</td>\n",
       "    </tr>\n",
       "    <tr>\n",
       "      <th>1</th>\n",
       "      <td>NCT00555217</td>\n",
       "      <td>\\n        Inclusion Criteria:\\n\\n          -  ...</td>\n",
       "    </tr>\n",
       "    <tr>\n",
       "      <th>2</th>\n",
       "      <td>NCT03211858</td>\n",
       "      <td>\\n        Inclusion criteria :\\n\\n          - ...</td>\n",
       "    </tr>\n",
       "    <tr>\n",
       "      <th>3</th>\n",
       "      <td>NCT02429258</td>\n",
       "      <td>\\n        Inclusion Criteria:\\n\\n          -  ...</td>\n",
       "    </tr>\n",
       "    <tr>\n",
       "      <th>4</th>\n",
       "      <td>NCT01106625</td>\n",
       "      <td>\\n        Inclusion Criteria:\\n\\n          -  ...</td>\n",
       "    </tr>\n",
       "  </tbody>\n",
       "</table>\n",
       "</div>"
      ],
      "text/plain": [
       "    NCT Number                                        Eligibility\n",
       "0  NCT02325466  \\n        Inclusion Criteria:\\n\\n          -  ...\n",
       "1  NCT00555217  \\n        Inclusion Criteria:\\n\\n          -  ...\n",
       "2  NCT03211858  \\n        Inclusion criteria :\\n\\n          - ...\n",
       "3  NCT02429258  \\n        Inclusion Criteria:\\n\\n          -  ...\n",
       "4  NCT01106625  \\n        Inclusion Criteria:\\n\\n          -  ..."
      ]
     },
     "execution_count": 5,
     "metadata": {},
     "output_type": "execute_result"
    }
   ],
   "source": [
    "df_nct_el.head()"
   ]
  },
  {
   "cell_type": "markdown",
   "metadata": {},
   "source": [
    "## Splitting inclusion and exclusion from eligibility"
   ]
  },
  {
   "cell_type": "code",
   "execution_count": 6,
   "metadata": {},
   "outputs": [],
   "source": [
    "def get_inclexcl(el):\n",
    "    el = el.replace(\"\\n\", \" \")\n",
    "    el = el.strip()\n",
    "    inc = re.findall(r'Inclusion\\ Criteria(.*?)Exclusion\\ Criteria', el)\n",
    "    ex = re.findall(r'Exclusion\\ Criteria(.*)', el)\n",
    "    if not inc and not ex:\n",
    "        return(el[0],\"\")\n",
    "    if inc and ex:\n",
    "        # return in str format\n",
    "        return(inc[0],ex[0])\n",
    "    if inc and not ex:\n",
    "        return(inc[0],\"\")\n",
    "    if ex and not inc:\n",
    "        return(\"\",ex[0])"
   ]
  },
  {
   "cell_type": "code",
   "execution_count": 7,
   "metadata": {},
   "outputs": [],
   "source": [
    "inc_arr = []\n",
    "excl_arr = []\n",
    "\n",
    "for i in range(len(df_nct_el)):\n",
    "    el = df_nct_el['Eligibility'][i]\n",
    "    incl, excl = get_inclexcl(el)\n",
    "    inc_arr.append(incl)\n",
    "    excl_arr.append(excl)\n"
   ]
  },
  {
   "cell_type": "code",
   "execution_count": 8,
   "metadata": {},
   "outputs": [],
   "source": [
    "temp1 = np.array(inc_arr)\n",
    "temp2 = np.array(excl_arr)"
   ]
  },
  {
   "cell_type": "code",
   "execution_count": 9,
   "metadata": {},
   "outputs": [],
   "source": [
    "temp3 = list(d)"
   ]
  },
  {
   "cell_type": "code",
   "execution_count": 10,
   "metadata": {},
   "outputs": [],
   "source": [
    "df_nct_incl_excl = pd.DataFrame({'NCT':temp3,'Inclusion':temp1, 'Exclusion':temp2})"
   ]
  },
  {
   "cell_type": "code",
   "execution_count": 11,
   "metadata": {},
   "outputs": [],
   "source": [
    "df_nct_incl_excl.to_csv(\"inclusion_exclusion.csv\",encoding='utf-8')"
   ]
  }
 ],
 "metadata": {
  "kernelspec": {
   "display_name": "Python 2",
   "language": "python",
   "name": "python2"
  },
  "language_info": {
   "codemirror_mode": {
    "name": "ipython",
    "version": 3
   },
   "file_extension": ".py",
   "mimetype": "text/x-python",
   "name": "python",
   "nbconvert_exporter": "python",
   "pygments_lexer": "ipython3",
   "version": "3.5.2"
  }
 },
 "nbformat": 4,
 "nbformat_minor": 2
}
